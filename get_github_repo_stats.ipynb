{
  "nbformat": 4,
  "nbformat_minor": 0,
  "metadata": {
    "colab": {
      "provenance": [],
      "authorship_tag": "ABX9TyPxmHCs7AH/fRa08RR/L/fn",
      "include_colab_link": true
    },
    "kernelspec": {
      "name": "python3",
      "display_name": "Python 3"
    },
    "language_info": {
      "name": "python"
    }
  },
  "cells": [
    {
      "cell_type": "markdown",
      "metadata": {
        "id": "view-in-github",
        "colab_type": "text"
      },
      "source": [
        "<a href=\"https://colab.research.google.com/github/tonykipkemboi/streamlit_pycon24_tutorial/blob/main/get_github_repo_stats.ipynb\" target=\"_parent\"><img src=\"https://colab.research.google.com/assets/colab-badge.svg\" alt=\"Open In Colab\"/></a>"
      ]
    },
    {
      "cell_type": "markdown",
      "source": [
        "# Script to download GitHub repo stats into 3 CSV files\n",
        "\n",
        "\n",
        "---\n",
        "- Commit activity stats\n",
        "- Code frequency stats\n",
        "- Contributor stats\n"
      ],
      "metadata": {
        "id": "ze91HzIPwQ5m"
      }
    },
    {
      "cell_type": "markdown",
      "source": [
        "## Install and import dependecies"
      ],
      "metadata": {
        "id": "-sh8q63Kvt7s"
      }
    },
    {
      "cell_type": "code",
      "execution_count": null,
      "metadata": {
        "id": "oShje79emd1j"
      },
      "outputs": [],
      "source": [
        "%pip install --q requests pandas"
      ]
    },
    {
      "cell_type": "code",
      "source": [
        "import requests\n",
        "import pandas as pd\n",
        "import time"
      ],
      "metadata": {
        "id": "SvajTYOjmsQS"
      },
      "execution_count": null,
      "outputs": []
    },
    {
      "cell_type": "markdown",
      "source": [
        "## Create functions to fetch data"
      ],
      "metadata": {
        "id": "jmnDNZvbv0fs"
      }
    },
    {
      "cell_type": "code",
      "source": [
        "def fetch_data(url, token, retries=5, delay=3):\n",
        "  headers = {'Authorization':, f'token {token}'}\n",
        "  for _ in range(retries):\n",
        "    response = requests.get(url, headers)\n",
        "    if response.status_code == 200:\n",
        "      return response.json()\n",
        "    elif response.status_code == 202:\n",
        "      # Wait for a few seconds while data is being processed\n",
        "      time.sleep(delay)\n",
        "    else:\n",
        "      raise Exception(f\"Failed to fetch data: {response.status_code}, {response.text}\")\n",
        "  raise Exception(\"Data not ready after maximum retries.\")"
      ],
      "metadata": {
        "id": "3tCvAt1Dmxrn"
      },
      "execution_count": null,
      "outputs": []
    },
    {
      "cell_type": "code",
      "source": [
        "def fetch_repo_stats(org, repo, token):\n",
        "  base_url = f\"https://api.github.com/repos/{org}/{repo}\"\n",
        "  stats = {\n",
        "      \"commit_activity\": fetch_data(f\"{base_url}/stats/commit_activity\", token),\n",
        "      \"code_frequency\": fetch_data(f\"{base_url}/stats/code_frequency\", token),\n",
        "      \"contributors\": fetch_data(f\"{base_url}/stats/contributors\", token)\n",
        "  }\n",
        "  return stats"
      ],
      "metadata": {
        "id": "PROcvjtioHYG"
      },
      "execution_count": null,
      "outputs": []
    },
    {
      "cell_type": "markdown",
      "source": [
        "## Save the downloaded data to CSV files"
      ],
      "metadata": {
        "id": "7kZS5YxOwJZc"
      }
    },
    {
      "cell_type": "code",
      "source": [
        "def save_stats_to_csv(stats, filename):\n",
        "  # Process commit activity\n",
        "  commit_activity = pd.json_normalize(stats[\"commit_activity\"])\n",
        "  commit_activity.to_csv(f\"{filename}_contributors.csv\", index=False)\n",
        "\n",
        "  # Process code frequency\n",
        "  code_frequency = pd.DataFrame(stats[\"code_frequency\"], columns=[\"week\", \"additions\", \"deletions\"])\n",
        "  code_frequency.to_csv(f\"{filename}_code_frequency.csv\", index=False)\n",
        "\n",
        "  # Process contributor\n",
        "  contributors = pd.json_normalize(stats[\"contributors\"], \"weeks\", \"author\")\n",
        "  contributors.to_csv(f\"{filename}contributors.csv\", index=False)"
      ],
      "metadata": {
        "id": "WoV698s3o9MZ"
      },
      "execution_count": null,
      "outputs": []
    },
    {
      "cell_type": "markdown",
      "source": [
        "## Run the script"
      ],
      "metadata": {
        "id": "nNV8xCz8wONS"
      }
    },
    {
      "cell_type": "code",
      "source": [
        "if __name__ == \"__main__\":\n",
        "  org = \"streamlit\" # Replace with your org name\n",
        "  repo = \"streamlit\" # Replace with your repo name\n",
        "  token = \"github_pat_**********\" # Replace with your GitHub token\n",
        "  stats = fetch_repo_stats(org, repo, token)\n",
        "  if stats:\n",
        "    print(\"Data fetch complete. Saving to CSVs!\")\n",
        "    save_stats_to_csv(stats, f\"{org}_{repo}_stats\")\n",
        "    print(\"Done!\")"
      ],
      "metadata": {
        "id": "QqzxSIefu0iC"
      },
      "execution_count": null,
      "outputs": []
    }
  ]
}